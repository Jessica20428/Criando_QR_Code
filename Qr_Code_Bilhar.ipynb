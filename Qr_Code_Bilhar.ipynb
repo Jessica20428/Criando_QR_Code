{
 "cells": [
  {
   "cell_type": "code",
   "execution_count": 5,
   "metadata": {},
   "outputs": [],
   "source": [
    "#QR_Code.py\n",
    "\n",
    "#Criando QRCode com o Python com as seguintes Bibliotecas: \n",
    "#pip install qrcode\n",
    "#pip install Pillow\n",
    "\n",
    "import qrcode \n",
    "from qrcode.image.styledpil import StyledPilImage\n",
    "\n",
    "qr = qrcode.QRCode(error_correction=qrcode.constants.ERROR_CORRECT_H)\n",
    "#Adicionando dados no meu QR Code\n",
    "qr.add_data('https://www.youtube.com/@universidadedobilhar2993')\n",
    "#Adicionar imagem no meu QR Code \n",
    "imagem = qr.make_image(\n",
    "    image_factory=StyledPilImage,\n",
    "    embeded_image_path='qrcode_bilhar_logo.jpg'\n",
    ")\n",
    "\n",
    "imagem.save('qrcode_logo.png')"
   ]
  }
 ],
 "metadata": {
  "kernelspec": {
   "display_name": "Python 3",
   "language": "python",
   "name": "python3"
  },
  "language_info": {
   "codemirror_mode": {
    "name": "ipython",
    "version": 3
   },
   "file_extension": ".py",
   "mimetype": "text/x-python",
   "name": "python",
   "nbconvert_exporter": "python",
   "pygments_lexer": "ipython3",
   "version": "3.10.1"
  },
  "orig_nbformat": 4
 },
 "nbformat": 4,
 "nbformat_minor": 2
}
